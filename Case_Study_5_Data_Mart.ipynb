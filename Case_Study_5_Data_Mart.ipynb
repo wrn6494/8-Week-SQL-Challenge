{
  "nbformat": 4,
  "nbformat_minor": 0,
  "metadata": {
    "colab": {
      "provenance": [],
      "collapsed_sections": [
        "Zc6RFqaTX4C3",
        "TAalIHSMX-Ia",
        "XebB-gwEYEUk"
      ],
      "authorship_tag": "ABX9TyPlenwofnDUS7lwrssMv4oU",
      "include_colab_link": true
    },
    "kernelspec": {
      "name": "python3",
      "display_name": "Python 3"
    },
    "language_info": {
      "name": "python"
    }
  },
  "cells": [
    {
      "cell_type": "markdown",
      "metadata": {
        "id": "view-in-github",
        "colab_type": "text"
      },
      "source": [
        "<a href=\"https://colab.research.google.com/github/wrn6494/-8-Week-SQL-Challenge/blob/main/Case_Study_5_Data_Mart.ipynb\" target=\"_parent\"><img src=\"https://colab.research.google.com/assets/colab-badge.svg\" alt=\"Open In Colab\"/></a>"
      ]
    },
    {
      "cell_type": "markdown",
      "source": [
        "# **8 Week SQL Challenge : Case Study #5 - Data Mart**\n",
        "\n",
        "Full case study available [here.](https://8weeksqlchallenge.com/case-study-5/)"
      ],
      "metadata": {
        "id": "XTi-yGr0XKSY"
      }
    },
    {
      "cell_type": "markdown",
      "source": [
        "**Probem Statement/Business Task**\n",
        "\n",
        "Danny needs your help to quantify the impact of switching to sustainable packaging methods on the sales performance for Data Mart and it’s separate business areas.\n",
        "\n",
        "The key business question he wants you to help him answer are the following:\n",
        "\n",
        "*  What was the quantifiable impact of the changes introduced in June 2020?\n",
        "*  Which platform, region, segment and customer types were the most impacted by this change?\n",
        "*  What can we do about future introduction of similar sustainability updates to the business to minimise impact on sales?\n",
        "\n",
        "\n",
        "\n"
      ],
      "metadata": {
        "id": "YNOXyJdQXXeQ"
      }
    },
    {
      "cell_type": "markdown",
      "source": [
        "**Entity Relationship Diagram**\n",
        "\n",
        "![image.png](data:image/png;base64,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)"
      ],
      "metadata": {
        "id": "RQgqEVMSXvQq"
      }
    },
    {
      "cell_type": "markdown",
      "source": [
        "# Case Study Questions"
      ],
      "metadata": {
        "id": "Zc6RFqaTX4C3"
      }
    },
    {
      "cell_type": "markdown",
      "source": [
        "**1. Data Cleansing Steps**\n",
        "\n",
        "In a single query, perform the following operations and generate a new table in the data_mart schema named clean_weekly_sales:\n",
        "\n",
        "1. Convert the week_date to a DATE format\n",
        "2. Add a week_number as the second column for each week_date value, for example any value from the 1st of January to 7th of January will be 1, 8th to 14th will be 2 etc\n",
        "3. Add a month_number with the calendar month for each week_date value as the 3rd column\n",
        "4. Add a calendar_year column as the 4th column containing either 2018, 2019 or 2020 values\n",
        "5. Add a new column called age_band after the original segment column using the following mapping on the number inside the segment value\n",
        "\n",
        "      segment\tage_band\n",
        "      1\tYoung Adults\n",
        "      2\tMiddle Aged\n",
        "      3 or 4\tRetirees\n",
        "\n",
        "6. Add a new demographic column using the following mapping for the first letter in the segment values:\n",
        "\n",
        "      segment\tdemographic\n",
        "      C\tCouples\n",
        "      F\tFamilies\n",
        "\n",
        "7. Ensure all null string values with an \"unknown\" string value in the original segment column as well as the new age_band and demographic columns\n",
        "8. Generate a new avg_transaction column as the sales value divided by transactions rounded to 2 decimal places for each record"
      ],
      "metadata": {
        "id": "0elq3ufXX9aV"
      }
    },
    {
      "cell_type": "markdown",
      "source": [
        "**2. Data Exploration**\n",
        "\n",
        "1. What day of the week is used for each week_date value?\n",
        "2. What range of week numbers are missing from the dataset?\n",
        "3. How many total transactions were there for each year in the dataset?\n",
        "4. What is the total sales for each region for each month?\n",
        "5. What is the total count of transactions for each platform\n",
        "6. What is the percentage of sales for Retail vs Shopify for each month?\n",
        "7. What is the percentage of sales by demographic for each year in the dataset?\n",
        "8. Which age_band and demographic values contribute the most to Retail sales?\n",
        "9. Can we use the avg_transaction column to find the average transaction size for each year for Retail vs Shopify? If not - how would you calculate it instead?"
      ],
      "metadata": {
        "id": "zThd_6d5Y39E"
      }
    },
    {
      "cell_type": "markdown",
      "source": [
        "**3. Before & After Analysis**\n",
        "\n",
        "This technique is usually used when we inspect an important event and want to inspect the impact before and after a certain point in time.\n",
        "\n",
        "Taking the week_date value of 2020-06-15 as the baseline week where the Data Mart sustainable packaging changes came into effect.\n",
        "\n",
        "We would include all week_date values for 2020-06-15 as the start of the period after the change and the previous week_date values would be before\n",
        "\n",
        "Using this analysis approach - answer the following questions:\n",
        "\n",
        "1. What is the total sales for the 4 weeks before and after 2020-06-15? \n",
        "2. What is the growth or reduction rate in actual values and percentage of sales?\n",
        "2. What about the entire 12 weeks before and after?\n",
        "3. How do the sale metrics for these 2 periods before and after compare with the previous years in 2018 and 2019?"
      ],
      "metadata": {
        "id": "S4eSa9HJZjcX"
      }
    },
    {
      "cell_type": "markdown",
      "source": [
        "**4. Bonus Question**\n",
        "1. Which areas of the business have the highest negative impact in sales metrics performance in 2020 for the 12 week before and after period?\n",
        "\n",
        "  *   region\n",
        "  *   platform\n",
        "  *   age_band\n",
        "  *   demographic\n",
        "  *   customer_type\n",
        "\n",
        "2. Do you have any further recommendations for Danny’s team at Data Mart or any interesting insights based off this analysis?"
      ],
      "metadata": {
        "id": "5QUkW45SZ04G"
      }
    },
    {
      "cell_type": "markdown",
      "source": [
        "# 1. Data Cleansing Steps"
      ],
      "metadata": {
        "id": "TAalIHSMX-Ia"
      }
    },
    {
      "cell_type": "markdown",
      "source": [
        "      SELECT \n",
        "        TO_DATE(week_date,'DD/MM/YY') AS week_date,\n",
        "        DATE_PART('week', TO_DATE(week_date,'DD/MM/YY')) AS week_number,\n",
        "        DATE_PART('month', TO_DATE(week_date,'DD/MM/YY')) AS month_number,  \n",
        "        DATE_PART('year', TO_DATE(week_date,'DD/MM/YY')) AS calendar_year,\n",
        "        region,\n",
        "        platform,\n",
        "        (CASE WHEN segment='null' THEN 'unknown' ELSE segment END) AS segment,\n",
        "        (CASE WHEN segment LIKE '%1' THEN 'Young Adults'\n",
        "              WHEN  segment LIKE '%2' THEN 'Middle Aged'\n",
        "              WHEN  segment='unknown' THEN 'unknown'   \n",
        "              ELSE 'Retirees' END) AS age_band,\n",
        "        (CASE WHEN segment LIKE 'C%' THEN 'Couples'\n",
        "            WHEN  segment LIKE 'F%' THEN 'Families' \t   \n",
        "              ELSE 'unknown' END) AS demographic,  \n",
        "        customer_type,\n",
        "        transactions,\n",
        "        sales,\n",
        "        ROUND((sales/transactions)::NUMERIC,2)AS avg_transaction\n",
        "      INTO clean_weekly_sales\n",
        "      FROM data_mart.weekly_sales;"
      ],
      "metadata": {
        "id": "9RxOeV0ZgWpA"
      }
    },
    {
      "cell_type": "markdown",
      "source": [
        "# 2. Data Exploration"
      ],
      "metadata": {
        "id": "XebB-gwEYEUk"
      }
    },
    {
      "cell_type": "markdown",
      "source": [
        "**2.1 What day of the week is used for each week_date value?**\n",
        "\n",
        "    SELECT DISTINCT (to_char(week_date, 'DAY'))\n",
        "    FROM data_mart.clean_weekly_sales;\n",
        "\n",
        "| to_char   |\n",
        "| --------- |\n",
        "| MONDAY    |\n"
      ],
      "metadata": {
        "id": "HhnZ6NhWgnNX"
      }
    },
    {
      "cell_type": "markdown",
      "source": [
        "**2.2 What range of week numbers are missing from the dataset?**\n",
        "\n",
        "    SELECT DISTINCT week_number\n",
        "    FROM data_mart.clean_weekly_sales\n",
        "    ORDER BY week_number;\n",
        "\n",
        "| week_number |\n",
        "| ----------- |\n",
        "| 13          |\n",
        "| 14          |\n",
        "| 15          |\n",
        "| 16          |\n",
        "| 17          |\n",
        "| 18          |\n",
        "| 19          |\n",
        "| 20          |\n",
        "| 21          |\n",
        "| 22          |\n",
        "| 23          |\n",
        "| 24          |\n",
        "| 25          |\n",
        "| 26          |\n",
        "| 27          |\n",
        "| 28          |\n",
        "| 29          |\n",
        "| 30          |\n",
        "| 31          |\n",
        "| 32          |\n",
        "| 33          |\n",
        "| 34          |\n",
        "| 35          |\n",
        "| 36          |"
      ],
      "metadata": {
        "id": "U16w9IJcgx_t"
      }
    },
    {
      "cell_type": "markdown",
      "source": [
        "The missing week numbers are 1-12 and 37-53."
      ],
      "metadata": {
        "id": "wMUimmHwksuT"
      }
    },
    {
      "cell_type": "markdown",
      "source": [
        "**2.3 How many total transactions were there for each year in the dataset?**\n",
        "\n",
        "    SELECT calendar_year, COUNT(transactions)\n",
        "        FROM data_mart.clean_weekly_sales\n",
        "        GROUP BY calendar_year\n",
        "        ORDER BY calendar_year;\n",
        "\n",
        "| calendar_year | count |\n",
        "| ------------- | ----- |\n",
        "| 2018          | 5698  |\n",
        "| 2019          | 5708  |\n",
        "| 2020          | 5711  |\n"
      ],
      "metadata": {
        "id": "z17wl4zbgzk7"
      }
    },
    {
      "cell_type": "markdown",
      "source": [
        "**2.4 What is the total sales for each region for each month?**\n",
        "\n",
        "    SELECT region, month_number, SUM(sales)\n",
        "    FROM data_mart.clean_weekly_sales\n",
        "    GROUP BY region,month_number\n",
        "    ORDER BY region,month_number;\n",
        "\n",
        "| region        | month_number | sum        |\n",
        "| ------------- | ------------ | ---------- |\n",
        "| AFRICA        | 3            | 567767480  |\n",
        "| AFRICA        | 4            | 1911783504 |\n",
        "| AFRICA        | 5            | 1647244738 |\n",
        "| AFRICA        | 6            | 1767559760 |\n",
        "| AFRICA        | 7            | 1960219710 |\n",
        "| AFRICA        | 8            | 1809596890 |\n",
        "| AFRICA        | 9            | 276320987  |\n",
        "| ASIA          | 3            | 529770793  |\n",
        "| ASIA          | 4            | 1804628707 |\n",
        "| ASIA          | 5            | 1526285399 |\n",
        "| ASIA          | 6            | 1619482889 |\n",
        "| ASIA          | 7            | 1768844756 |\n",
        "| ASIA          | 8            | 1663320609 |\n",
        "| ASIA          | 9            | 252836807  |\n",
        "| CANADA        | 3            | 144634329  |\n",
        "| CANADA        | 4            | 484552594  |\n",
        "| CANADA        | 5            | 412378365  |\n",
        "| CANADA        | 6            | 443846698  |\n",
        "| CANADA        | 7            | 477134947  |\n",
        "| CANADA        | 8            | 447073019  |\n",
        "| CANADA        | 9            | 69067959   |\n",
        "| EUROPE        | 3            | 35337093   |\n",
        "| EUROPE        | 4            | 127334255  |\n",
        "| EUROPE        | 5            | 109338389  |\n",
        "| EUROPE        | 6            | 122813826  |\n",
        "| EUROPE        | 7            | 136757466  |\n",
        "| EUROPE        | 8            | 122102995  |\n",
        "| EUROPE        | 9            | 18877433   |\n",
        "| OCEANIA       | 3            | 783282888  |\n",
        "| OCEANIA       | 4            | 2599767620 |\n",
        "| OCEANIA       | 5            | 2215657304 |\n",
        "| OCEANIA       | 6            | 2371884744 |\n",
        "| OCEANIA       | 7            | 2563459400 |\n",
        "| OCEANIA       | 8            | 2432313652 |\n",
        "| OCEANIA       | 9            | 372465518  |\n",
        "| SOUTH AMERICA | 3            | 71023109   |\n",
        "| SOUTH AMERICA | 4            | 238451531  |\n",
        "| SOUTH AMERICA | 5            | 201391809  |\n",
        "| SOUTH AMERICA | 6            | 218247455  |\n",
        "| SOUTH AMERICA | 7            | 235582776  |\n",
        "| SOUTH AMERICA | 8            | 221166052  |\n",
        "| SOUTH AMERICA | 9            | 34175583   |\n",
        "| USA           | 3            | 225353043  |\n",
        "| USA           | 4            | 759786323  |\n",
        "| USA           | 5            | 655967121  |\n",
        "| USA           | 6            | 703878990  |\n",
        "| USA           | 7            | 760331754  |\n",
        "| USA           | 8            | 712002790  |\n",
        "| USA           | 9            | 110532368  |"
      ],
      "metadata": {
        "id": "tx46fWuIg09D"
      }
    },
    {
      "cell_type": "markdown",
      "source": [
        "**2.5 What is the total count of transactions for each platform**\n",
        "\n",
        "    SELECT platform, COUNT(transactions)\n",
        "        FROM data_mart.clean_weekly_sales\n",
        "        GROUP BY platform;\n",
        "\n",
        "| platform | count |\n",
        "| -------- | ----- |\n",
        "| Shopify  | 8549  |\n",
        "| Retail   | 8568  |"
      ],
      "metadata": {
        "id": "QryGAEjsg2LK"
      }
    },
    {
      "cell_type": "markdown",
      "source": [
        "**2.6 What is the percentage of sales for Retail vs Shopify for each month?**\n",
        "\n",
        "    WITH A AS (\n",
        "       SELECT platform, calendar_year,month_number, sum(sales) AS sales\n",
        "       FROM   data_mart.clean_weekly_sales\n",
        "       GROUP  BY platform, calendar_year,month_number\n",
        "       )\n",
        "       \n",
        "    SELECT platform, calendar_year,month_number, ROUND((sales/sum(sales) OVER (PARTITION BY calendar_year,month_number))::NUMERIC*100,2) AS percent\n",
        "    FROM  A\n",
        "    ORDER  BY calendar_year,month_number,platform;\n",
        "\n",
        "| platform | calendar_year | month_number | percent |\n",
        "| -------- | ------------- | ------------ | ------- |\n",
        "| Retail   | 2018          | 3            | 97.92   |\n",
        "| Shopify  | 2018          | 3            | 2.08    |\n",
        "| Retail   | 2018          | 4            | 97.93   |\n",
        "| Shopify  | 2018          | 4            | 2.07    |\n",
        "| Retail   | 2018          | 5            | 97.73   |\n",
        "| Shopify  | 2018          | 5            | 2.27    |\n",
        "| Retail   | 2018          | 6            | 97.76   |\n",
        "| Shopify  | 2018          | 6            | 2.24    |\n",
        "| Retail   | 2018          | 7            | 97.75   |\n",
        "| Shopify  | 2018          | 7            | 2.25    |\n",
        "\n",
        "\n",
        "*NOTE: Resulting table is truncated because it is long to display here.\n"
      ],
      "metadata": {
        "id": "N2MwIu-ig3WB"
      }
    },
    {
      "cell_type": "markdown",
      "source": [
        "**2.7 What is the percentage of sales by demographic for each year in the dataset?**\n",
        "\n",
        "    WITH A AS (\n",
        "       SELECT demographic, calendar_year, sum(sales) AS sales\n",
        "       FROM   data_mart.clean_weekly_sales\n",
        "       GROUP  BY demographic, calendar_year\n",
        "       )\n",
        "    \n",
        "    SELECT demographic, calendar_year, ROUND((sales/sum(sales) OVER (PARTITION BY calendar_year))::NUMERIC*100,2) AS percent\n",
        "    FROM  A\n",
        "    ORDER  BY calendar_year,demographic;\n",
        "\n",
        "| demographic | calendar_year | percent |\n",
        "| ----------- | ------------- | ------- |\n",
        "| Couples     | 2018          | 26.38   |\n",
        "| Families    | 2018          | 31.99   |\n",
        "| unknown     | 2018          | 41.63   |\n",
        "| Couples     | 2019          | 27.28   |\n",
        "| Families    | 2019          | 32.47   |\n",
        "| unknown     | 2019          | 40.25   |\n",
        "| Couples     | 2020          | 28.72   |\n",
        "| Families    | 2020          | 32.73   |\n",
        "| unknown     | 2020          | 38.55   |"
      ],
      "metadata": {
        "id": "MWHYkCHIg4dp"
      }
    },
    {
      "cell_type": "markdown",
      "source": [
        "**2.8 Which age_band and demographic values contribute the most to Retail sales?**\n",
        "\n",
        "    WITH A AS (\n",
        "       SELECT demographic, age_band, sum(sales) AS sales\n",
        "       FROM   data_mart.clean_weekly_sales\n",
        "       WHERE platform='Retail' \n",
        "       GROUP  BY demographic, age_band\n",
        "    \n",
        "       )\n",
        "    \n",
        "    SELECT demographic, age_band, ROUND((sales/sum(sales) OVER ())::NUMERIC*100,2) AS percent\n",
        "    FROM  A\n",
        "    ORDER  BY demographic, age_band;\n",
        "\n",
        "| demographic | age_band     | percent |\n",
        "| ----------- | ------------ | ------- |\n",
        "| Couples     | Middle Aged  | 4.68    |\n",
        "| Couples     | Retirees     | 16.07   |\n",
        "| Couples     | Young Adults | 6.56    |\n",
        "| Families    | Middle Aged  | 10.98   |\n",
        "| Families    | Retirees     | 16.73   |\n",
        "| Families    | Young Adults | 4.47    |\n",
        "| unknown     | Retirees     | 40.52   |"
      ],
      "metadata": {
        "id": "50RxRdNPg5lS"
      }
    },
    {
      "cell_type": "markdown",
      "source": [
        "Families and Retirees have larger share to Retail Sales."
      ],
      "metadata": {
        "id": "ZjO_tmJo3eDE"
      }
    },
    {
      "cell_type": "markdown",
      "source": [
        "**2.9 Can we use the avg_transaction column to find the average transaction size for each year for Retail vs Shopify? If not - how would you calculate it instead?**\n",
        "\n",
        "No, because it uses the values repeatedly the value will become smaller and inaccurate. It is better to use the original values.\n",
        "\n",
        "    WITH retail AS \n",
        "    (\n",
        "       SELECT calendar_year,SUM(transactions) AS t, SUM(sales)\n",
        "       FROM data_mart.clean_weekly_sales\n",
        "       WHERE platform='Retail'\n",
        "       GROUP BY calendar_year\n",
        "    ),\n",
        "    shopify AS \n",
        "    (\n",
        "       SELECT calendar_year, SUM(transactions) AS t, SUM(sales)\n",
        "       FROM data_mart.clean_weekly_sales\n",
        "       WHERE platform='Shopify'\n",
        "       GROUP BY calendar_year\n",
        "    )\n",
        "    \n",
        "    SELECT r.calendar_year, (r.sum/r.t) AS retail_average, (s.sum/s.t) AS shopify_average\n",
        "    FROM  retail r \n",
        "    JOIN shopify s\n",
        "    USING (calendar_year);\n",
        "\n",
        "| calendar_year | retail_average | shopify_average |\n",
        "| ------------- | -------------- | --------------- |\n",
        "| 2018          | 36             | 192             |\n",
        "| 2019          | 36             | 183             |\n",
        "| 2020          | 36             | 179             |"
      ],
      "metadata": {
        "id": "p34Rx834g6l6"
      }
    },
    {
      "cell_type": "markdown",
      "source": [
        "# 3. Before & After Analysis"
      ],
      "metadata": {
        "id": "U8oLtOcHYJXa"
      }
    },
    {
      "cell_type": "markdown",
      "source": [
        "**1. What is the total sales for the 4 weeks before and after 2020-06-15?**\n",
        "\n",
        "**2. What is the growth or reduction rate in actual values and percentage of sales?**\n"
      ],
      "metadata": {
        "id": "85yc_AFQ9VAD"
      }
    },
    {
      "cell_type": "markdown",
      "source": [
        "    WITH before AS\n",
        "    (\n",
        "    SELECT SUM(sales)\n",
        "    FROM data_mart.clean_weekly_sales\n",
        "    WHERE calendar_year=2020\n",
        "    AND week_date>= (TO_DATE('2020-06-15','YYYY-MM-DD') - interval '4 week')\n",
        "    AND week_date< TO_DATE('2020-06-15','YYYY-MM-DD')\n",
        "    ),\n",
        "    after AS\n",
        "    (\n",
        "    SELECT SUM(sales)\n",
        "    FROM data_mart.clean_weekly_sales\n",
        "    WHERE calendar_year=2020\n",
        "    AND week_date<= (TO_DATE('2020-06-15','YYYY-MM-DD') + interval '3 week')\n",
        "    AND week_date>= TO_DATE('2020-06-15','YYYY-MM-DD')\n",
        "    )\n",
        "    \n",
        "    SELECT b.sum AS before_sales,a.sum AS after_sales, a.sum-b.sum AS difference,\n",
        "    \tROUND(((a.sum-b.sum)::NUMERIC/b.sum)*100,2) AS growth_rate\n",
        "    FROM before b,after a;\n",
        "\n",
        "| before_sales | after_sales | difference | growth_rate             |\n",
        "| ------------ | ----------- | ---------- | ----------------------- |\n",
        "| 2345878357   | 2318994169  | -26884188  | -1.15|"
      ],
      "metadata": {
        "id": "LqfOKrVYEHRy"
      }
    },
    {
      "cell_type": "markdown",
      "source": [
        "**3. What about the entire 12 weeks before and after?**\n",
        "\n",
        "    WITH before AS\n",
        "    (\n",
        "    SELECT SUM(sales)\n",
        "    FROM data_mart.clean_weekly_sales\n",
        "    WHERE calendar_year=2020\n",
        "    AND week_date>= (TO_DATE('2020-06-15','YYYY-MM-DD') - interval '12 week')\n",
        "    AND week_date< TO_DATE('2020-06-15','YYYY-MM-DD')\n",
        "    ),\n",
        "    after AS\n",
        "    (\n",
        "    SELECT SUM(sales)\n",
        "    FROM data_mart.clean_weekly_sales\n",
        "    WHERE calendar_year=2020\n",
        "    AND week_date<= (TO_DATE('2020-06-15','YYYY-MM-DD') + interval '11 week')\n",
        "    AND week_date>= TO_DATE('2020-06-15','YYYY-MM-DD')\n",
        "    )\n",
        "    \n",
        "    SELECT b.sum AS before_sales,a.sum AS after_sales, a.sum-b.sum AS difference,\n",
        "    \t((a.sum-b.sum)::NUMERIC/b.sum)*100 AS growth_rate\n",
        "    FROM before b,after a;\n",
        "\n",
        "| before_sales | after_sales | difference | growth_rate             |\n",
        "| ------------ | ----------- | ---------- | ----------------------- |\n",
        "| 7126273147   | 6973947753  | -152325394 | -2.13751831929324165200 |\n"
      ],
      "metadata": {
        "id": "4XhGxrI49X-q"
      }
    },
    {
      "cell_type": "markdown",
      "source": [
        "**4. How do the sale metrics for these 2 periods before and after compare with the previous years in 2018 and 2019?**"
      ],
      "metadata": {
        "id": "5Q0u4txD9ZDL"
      }
    },
    {
      "cell_type": "markdown",
      "source": [
        "12 weeks before and after June 15\n",
        "\n",
        "    WITH before AS\n",
        "    (\n",
        "    SELECT SUM(sales), calendar_year\n",
        "    FROM data_mart.clean_weekly_sales\n",
        "    WHERE week_number>= DATE_PART('week', TO_DATE('2020-06-15','YYYY-MM-DD')) - 12\n",
        "    AND week_number< DATE_PART('week', TO_DATE('2020-06-15','YYYY-MM-DD'))\n",
        "    GROUP BY calendar_year\n",
        "    ),\n",
        "    after AS\n",
        "    (\n",
        "    SELECT SUM(sales), calendar_year\n",
        "    FROM data_mart.clean_weekly_sales\n",
        "    WHERE week_number<= DATE_PART('week', TO_DATE('2020-06-15','YYYY-MM-DD')) + 11\n",
        "    AND week_number>= DATE_PART('week', TO_DATE('2020-06-15','YYYY-MM-DD'))\n",
        "    GROUP BY calendar_year\n",
        "    )\n",
        "    \n",
        "    SELECT a.calendar_year,b.sum AS before_sales, a.sum AS after_sales, a.sum-b.sum AS difference,\n",
        "    \tROUND(((a.sum-b.sum)::NUMERIC/b.sum)*100,2) AS growth_rate\n",
        "    FROM before b\n",
        "    JOIN after a\n",
        "    USING (calendar_year);\n",
        "\n",
        "| calendar_year | before_sales | after_sales | difference | growth_rate             |\n",
        "| ------------- | ------------ | ----------- | ---------- | ----------------------- |\n",
        "| 2018          | 6396562317   | 6500818510  | 104256193  | 1.63  |\n",
        "| 2019          | 6883386397   | 6862646103  | -20740294  | -0.30|\n",
        "| 2020          | 7126273147   | 6973947753  | -152325394 | -2.14 |\n"
      ],
      "metadata": {
        "id": "YaDWZK-xH7RG"
      }
    },
    {
      "cell_type": "markdown",
      "source": [
        "4 weeks before and after June 15\n",
        "\n",
        "    WITH before AS\n",
        "    (\n",
        "    SELECT SUM(sales), calendar_year\n",
        "    FROM data_mart.clean_weekly_sales\n",
        "    WHERE week_number>= DATE_PART('week', TO_DATE('2020-06-15','YYYY-MM-DD')) - 4\n",
        "    AND week_number< DATE_PART('week', TO_DATE('2020-06-15','YYYY-MM-DD'))\n",
        "    GROUP BY calendar_year\n",
        "    ),\n",
        "    after AS\n",
        "    (\n",
        "    SELECT SUM(sales), calendar_year\n",
        "    FROM data_mart.clean_weekly_sales\n",
        "    WHERE week_number<= DATE_PART('week', TO_DATE('2020-06-15','YYYY-MM-DD')) + 3\n",
        "    AND week_number>= DATE_PART('week', TO_DATE('2020-06-15','YYYY-MM-DD'))\n",
        "    GROUP BY calendar_year\n",
        "    )\n",
        "    \n",
        "    SELECT a.calendar_year,b.sum AS before_sales, a.sum AS after_sales, a.sum-b.sum AS difference,\n",
        "    \tROUND(((a.sum-b.sum)::NUMERIC/b.sum)*100,0) AS growth_rate\n",
        "    FROM before b\n",
        "    JOIN after a\n",
        "    USING (calendar_year);\n",
        "\n",
        "| calendar_year | before_sales | after_sales | difference | growth_rate             |\n",
        "| ------------- | ------------ | ----------- | ---------- | ----------------------- |\n",
        "| 2018          | 2125140809   | 2129242914  | 4102105    | 0.19|\n",
        "| 2019          | 2249989796   | 2252326390  | 2336594    | 0.10 |\n",
        "| 2020          | 2345878357   | 2318994169  | -26884188  | -1.15|"
      ],
      "metadata": {
        "id": "S-1oIbP_INK9"
      }
    },
    {
      "cell_type": "markdown",
      "source": [
        "The sales was lower after the change. There was a -1.15 and -2.14 growth. Comparing all the years, the lowest was in 2020."
      ],
      "metadata": {
        "id": "Q_YUp7vgIcYe"
      }
    },
    {
      "cell_type": "markdown",
      "source": [
        "# 4. Bonus Question"
      ],
      "metadata": {
        "id": "VvskKS1eYNT1"
      }
    },
    {
      "cell_type": "markdown",
      "source": [
        "**1. Which areas of the business have the highest negative impact in sales metrics performance in 2020 for the 12 week before and after period?**\n",
        "\n",
        "*   region\n",
        "*   platform\n",
        "*   age_band\n",
        "*   demographic\n",
        "*   customer_type"
      ],
      "metadata": {
        "id": "cIdkLxzaJDm-"
      }
    },
    {
      "cell_type": "markdown",
      "source": [
        "    WITH before AS\n",
        "    (\n",
        "    SELECT region, SUM(sales)\n",
        "    FROM data_mart.clean_weekly_sales\n",
        "    WHERE calendar_year=2020\n",
        "    AND week_date>= (TO_DATE('2020-06-15','YYYY-MM-DD') - interval '12 week')\n",
        "    AND week_date< TO_DATE('2020-06-15','YYYY-MM-DD')\n",
        "    GROUP BY region \n",
        "    ),\n",
        "    after AS\n",
        "    (\n",
        "    SELECT region,SUM(sales)\n",
        "    FROM data_mart.clean_weekly_sales\n",
        "    WHERE calendar_year=2020\n",
        "    AND week_date<= (TO_DATE('2020-06-15','YYYY-MM-DD') + interval '11 week')\n",
        "    AND week_date>= TO_DATE('2020-06-15','YYYY-MM-DD')\n",
        "    GROUP BY region \n",
        "    )\n",
        "    \n",
        "    SELECT a.region, b.sum AS before_sales,a.sum AS after_sales, a.sum-b.sum AS difference,\n",
        "        ROUND(((a.sum-b.sum)::NUMERIC/b.sum)*100,2) AS growth_rate\n",
        "    FROM before b\n",
        "    JOIN after a\n",
        "    USING (region);\n",
        "\n",
        "| region        | before_sales | after_sales | difference | growth_rate |\n",
        "| ------------- | ------------ | ----------- | ---------- | ----------- |\n",
        "| AFRICA        | 1709537105   | 1700390294  | -9146811   | -0.54       |\n",
        "| ASIA          | 1637244466   | 1583807621  | -53436845  | -3.26       |\n",
        "| CANADA        | 426438454    | 418264441   | -8174013   | -1.92       |\n",
        "| EUROPE        | 108886567    | 114038959   | 5152392    | 4.73        |\n",
        "| OCEANIA       | 2354116790   | 2282795690  | -71321100  | -3.03       |\n",
        "| SOUTH AMERICA | 213036207    | 208452033   | -4584174   | -2.15       |\n",
        "| USA           | 677013558    | 666198715   | -10814843  | -1.60       |"
      ],
      "metadata": {
        "id": "xaRo_fxhMAf9"
      }
    },
    {
      "cell_type": "markdown",
      "source": [
        "Using the same structure of CTE, we got the following tables:"
      ],
      "metadata": {
        "id": "gkbD0HxhMNoJ"
      }
    },
    {
      "cell_type": "markdown",
      "source": [
        "| platform | before_sales | after_sales | difference | growth_rate |\n",
        "| -------- | ------------ | ----------- | ---------- | ----------- |\n",
        "| Retail   | 6906861113   | 6738777279  | -168083834 | -2.43       |\n",
        "| Shopify  | 219412034    | 235170474   | 15758440   | 7.18        |"
      ],
      "metadata": {
        "id": "qHTdx81SMWzN"
      }
    },
    {
      "cell_type": "markdown",
      "source": [
        "| age_band     | before_sales | after_sales | difference | growth_rate |\n",
        "| ------------ | ------------ | ----------- | ---------- | ----------- |\n",
        "| Middle Aged  | 1164847640   | 1141853348  | -22994292  | -1.97       |\n",
        "| Retirees     | 5159618979   | 5037676437  | -121942542 | -2.36       |\n",
        "| Young Adults | 801806528    | 794417968   | -7388560   | -0.92       |"
      ],
      "metadata": {
        "id": "B67DD-2UMXzd"
      }
    },
    {
      "cell_type": "markdown",
      "source": [
        "| demographic | before_sales | after_sales | difference | growth_rate |\n",
        "| ----------- | ------------ | ----------- | ---------- | ----------- |\n",
        "| Couples     | 2033589643   | 2015977285  | -17612358  | -0.87       |\n",
        "| Families    | 2328329040   | 2286009025  | -42320015  | -1.82       |\n",
        "| unknown     | 2764354464   | 2671961443  | -92393021  | -3.34       |"
      ],
      "metadata": {
        "id": "XdC-SGQHMnl0"
      }
    },
    {
      "cell_type": "markdown",
      "source": [
        "| customer_type | before_sales | after_sales | difference | growth_rate |\n",
        "| ------------- | ------------ | ----------- | ---------- | ----------- |\n",
        "| Existing      | 3690116427   | 3606243454  | -83872973  | -2.27       |\n",
        "| Guest         | 2573436301   | 2496233635  | -77202666  | -3.00       |\n",
        "| New           | 862720419    | 871470664   | 8750245    | 1.01        |"
      ],
      "metadata": {
        "id": "wOTtah5bM76-"
      }
    },
    {
      "cell_type": "markdown",
      "source": [
        "Overall here it the growth rate per each metric. The following was computed through excel."
      ],
      "metadata": {
        "id": "7_t-sWuYNtWa"
      }
    },
    {
      "cell_type": "markdown",
      "source": [
        "| metrics | average_growth_rate |\n",
        "| ------------- | ------------ |\n",
        "| region       | -1.11       |\n",
        "| platform        | 2.38       |\n",
        "| age_band              | -1.75        |\n",
        "| demographic              | -2.01        |\n",
        "| customer_type             | -1.42        |"
      ],
      "metadata": {
        "id": "KrkmKQ55Neyl"
      }
    }
  ]
}