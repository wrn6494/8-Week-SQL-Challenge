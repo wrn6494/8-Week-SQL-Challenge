{
  "nbformat": 4,
  "nbformat_minor": 0,
  "metadata": {
    "colab": {
      "provenance": [],
      "authorship_tag": "ABX9TyMwvn8WGC8KS+EvvFcVg9xn",
      "include_colab_link": true
    },
    "kernelspec": {
      "name": "python3",
      "display_name": "Python 3"
    },
    "language_info": {
      "name": "python"
    }
  },
  "cells": [
    {
      "cell_type": "markdown",
      "metadata": {
        "id": "view-in-github",
        "colab_type": "text"
      },
      "source": [
        "<a href=\"https://colab.research.google.com/github/wrn6494/-8-Week-SQL-Challenge/blob/main/Case_Study_3_Foodie_Fi.ipynb\" target=\"_parent\"><img src=\"https://colab.research.google.com/assets/colab-badge.svg\" alt=\"Open In Colab\"/></a>"
      ]
    },
    {
      "cell_type": "markdown",
      "source": [
        "# **8 Week SQL Challenge : Case Study #3 - Foodie-Fi**\n",
        "\n",
        "Full case study available [here.](https://8weeksqlchallenge.com/case-study-3/)"
      ],
      "metadata": {
        "id": "sZne8ED4VJsW"
      }
    },
    {
      "cell_type": "markdown",
      "source": [
        "**Entity Relationship Diagram**\n",
        "\n",
        "![image.png](data:image/png;base64,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)"
      ],
      "metadata": {
        "id": "pUn-zhUUVY8w"
      }
    },
    {
      "cell_type": "markdown",
      "source": [
        "# Case Study Questions"
      ],
      "metadata": {
        "id": "FbnvCggOR1X1"
      }
    },
    {
      "cell_type": "markdown",
      "source": [
        "****\n",
        "\n",
        "**A. Customer Journey**\n",
        "\n",
        "Based off the 8 sample customers provided in the sample from the subscriptions table, write a brief description about each customer’s onboarding journey.\n",
        "\n",
        "Try to keep it as short as possible - you may also want to run some sort of join to make your explanations a bit easier!\n",
        "\n",
        "**B. Data Analysis Questions**\n",
        "\n",
        "1.  How many customers has Foodie-Fi ever had?\n",
        "2.  What is the monthly distribution of trial plan start_date values for our dataset - use the start of the month as the group by value\n",
        "3. What plan start_date values occur after the year 2020 for our dataset? Show the breakdown by count of events for each plan_name\n",
        "4. What is the customer count and percentage of customers who have churned rounded to 1 decimal place?\n",
        "5. How many customers have churned straight after their initial free trial - what percentage is this rounded to the nearest whole number?\n",
        "6. What is the number and percentage of customer plans after their initial free trial?\n",
        "7. What is the customer count and percentage breakdown of all 5 plan_name values at 2020-12-31?\n",
        "8. How many customers have upgraded to an annual plan in 2020?\n",
        "9. How many days on average does it take for a customer to an annual plan from the day they join Foodie-Fi?\n",
        "10. Can you further breakdown this average value into 30 day periods (i.e. 0-30 days, 31-60 days etc)\n",
        "11. How many customers downgraded from a pro monthly to a basic monthly plan in 2020?\n",
        "\n",
        "**C. Challenge Payment Question**\n",
        "\n",
        "The Foodie-Fi team wants you to create a new payments table for the year 2020 that includes amounts paid by each customer in the subscriptions table with the following requirements:\n",
        "\n",
        "*   monthly payments always occur on the same day of month as the original start_date of any monthly paid plan\n",
        "*   upgrades from basic to monthly or pro plans are reduced by the current paid amount in that month and start immediately\n",
        "*  upgrades from pro monthly to pro annual are paid at the end of the current billing period and also starts at the end of the month period\n",
        "*  once a customer churns they will no longer make payments\n",
        "\n",
        "**D. Outside The Box Questions**\n",
        "\n",
        "1. How would you calculate the rate of growth for Foodie-Fi?\n",
        "2. What key metrics would you recommend Foodie-Fi management to track over time to assess performance of their overall business?\n",
        "3. What are some key customer journeys or experiences that you would analyse further to improve customer retention?\n",
        "4. If the Foodie-Fi team were to create an exit survey shown to customers who wish to cancel their subscription, what questions would you include in the survey?\n",
        "5. What business levers could the Foodie-Fi team use to reduce the customer churn rate? How would you validate the effectiveness of your ideas?"
      ],
      "metadata": {
        "id": "SPKPoKVWVcHq"
      }
    },
    {
      "cell_type": "markdown",
      "source": [
        "# A.Customer Journey"
      ],
      "metadata": {
        "id": "7z0m9gObRta5"
      }
    },
    {
      "cell_type": "markdown",
      "source": [
        "Sample Customers: 1,2,11,13,15,16,18,19\n",
        "\n",
        "    SELECT customer_id, plan_name\n",
        "    FROM foodie_fi.plans p\n",
        "    JOIN foodie_fi.subscriptions s\n",
        "    USING (plan_id)\n",
        "    WHERE customer_id IN (1,2,11,13,15,16,18,19)\n",
        "    ORDER BY customer_id,plan_id;\n",
        "\n",
        "| customer_id | plan_name     |\n",
        "| ----------- | ------------- |\n",
        "| 1           | trial         |\n",
        "| 1           | basic monthly |\n",
        "| 2           | trial         |\n",
        "| 2           | pro annual    |\n",
        "| 11          | trial         |\n",
        "| 11          | churn         |\n",
        "| 13          | trial         |\n",
        "| 13          | basic monthly |\n",
        "| 13          | pro monthly   |\n",
        "| 15          | trial         |\n",
        "| 15          | pro monthly   |\n",
        "| 15          | churn         |\n",
        "| 16          | trial         |\n",
        "| 16          | basic monthly |\n",
        "| 16          | pro annual    |\n",
        "| 18          | trial         |\n",
        "| 18          | pro monthly   |\n",
        "| 19          | trial         |\n",
        "| 19          | pro monthly   |\n",
        "| 19          | pro annual    |\n"
      ],
      "metadata": {
        "id": "41xuZDBHphRE"
      }
    },
    {
      "cell_type": "markdown",
      "source": [
        "# B. Data Analysis Questions"
      ],
      "metadata": {
        "id": "Wat036qlR--l"
      }
    },
    {
      "cell_type": "markdown",
      "source": [
        "**B.1  How many customers has Foodie-Fi ever had?**\n",
        "\n",
        "    SELECT COUNT(DISTINCT customer_id)\n",
        "    FROM foodie_fi.subscriptions;\n",
        "\n",
        "| count |\n",
        "| ----- |\n",
        "| 1000  |\n"
      ],
      "metadata": {
        "id": "GvUTE-1xg97Y"
      }
    },
    {
      "cell_type": "markdown",
      "source": [
        "**B.2. What is the monthly distribution of trial plan start_date values for our dataset - use the start of the month as the group by value**\n",
        "\n",
        "    SELECT TO_CHAR(start_date, 'Month')  AS month, COUNT(customer_id) AS Customers_with_Trial\n",
        "    FROM foodie_fi.subscriptions s\n",
        "    WHERE plan_id=0\n",
        "    GROUP BY EXTRACT(MONTH FROM start_date), TO_CHAR(start_date, 'Month');\n",
        "\n",
        "| month     | customers_with_trial |\n",
        "| --------- | -------------------- |\n",
        "| January   | 88                   |\n",
        "| February  | 68                   |\n",
        "| March     | 94                   |\n",
        "| April     | 81                   |\n",
        "| May       | 88                   |\n",
        "| June      | 79                   |\n",
        "| July      | 89                   |\n",
        "| August    | 88                   |\n",
        "| September | 87                   |\n",
        "| October   | 79                   |\n",
        "| November  | 75                   |\n",
        "| December  | 84                   |"
      ],
      "metadata": {
        "id": "UdZ74Lo9hRjI"
      }
    },
    {
      "cell_type": "markdown",
      "source": [
        "**B.3 What plan start_date values occur after the year 2020 for our dataset? Show the breakdown by count of events for each plan_name**\n",
        "\n",
        "    SELECT plan_name, COUNT(start_date) AS no_of_events\n",
        "    FROM foodie_fi.subscriptions s\n",
        "    JOIN  foodie_fi.plans p\n",
        "    USING (plan_id)\n",
        "    WHERE start_date>'2020-12-31'\n",
        "    GROUP BY plan_name;\n",
        "\n",
        "| plan_name     | no_of_events |\n",
        "| ------------- | ------------ |\n",
        "| pro annual    | 63           |\n",
        "| churn         | 71           |\n",
        "| pro monthly   | 60           |\n",
        "| basic monthly | 8            |"
      ],
      "metadata": {
        "id": "iK5z6zB6jRIB"
      }
    },
    {
      "cell_type": "markdown",
      "source": [
        "**B.4 What is the customer count and percentage of customers who have churned rounded to 1 decimal place?**\n",
        "\n",
        "    SELECT COUNT(DISTINCT customer_id)\n",
        "    FROM foodie_fi.subscriptions\n",
        "    WHERE plan_id = 4;\n",
        "\n",
        "| count |\n",
        "| ----- |\n",
        "| 307   |\n",
        "\n",
        "\n",
        "    WITH A AS\n",
        "    (\n",
        "    SELECT DISTINCT customer_id as churned\n",
        "    FROM foodie_fi.subscriptions\n",
        "    WHERE plan_id = 4\n",
        "    )\n",
        "\n",
        "    SELECT(COUNT(DISTINCT churned)/ COUNT(DISTINCT customer_id)::float)*100 AS churn_percentage\n",
        "    FROM foodie_fi.subscriptions, A;\n",
        "\n",
        "| churn_percentage |\n",
        "| ---------------- |\n",
        "| 30.7             |"
      ],
      "metadata": {
        "id": "KU_BW2yncFsD"
      }
    },
    {
      "cell_type": "markdown",
      "source": [
        "**B.5 How many customers have churned straight after their initial free trial - what percentage is this rounded to the nearest whole number?**\n",
        "\n",
        "    WITH A AS\n",
        "    (\n",
        "    SELECT customer_id, start_date\n",
        "    FROM foodie_fi.subscriptions\n",
        "    WHERE plan_id=0\n",
        "    ),\n",
        "    B AS\n",
        "    (\n",
        "    SELECT customer_id, start_date\n",
        "    FROM foodie_fi.subscriptions\n",
        "    WHERE plan_id=4\n",
        "    )\n",
        "\n",
        "    SELECT COUNT(B.customer_id),ROUND(((COUNT(B.customer_id)::float/1000)*100)::NUMERIC,0) AS churned_straight_perc\n",
        "    FROM A\n",
        "    JOIN B\n",
        "    USING (customer_id)\n",
        "    WHERE B.start_date-A.start_date<=7;\n",
        "\n",
        "| count | churned_straight_perc |\n",
        "| ----- | --------------------- |\n",
        "| 92    | 9                     |"
      ],
      "metadata": {
        "id": "1kMG7M6qjUXi"
      }
    },
    {
      "cell_type": "markdown",
      "source": [
        "**B.6 What is the number and percentage of customer plans after their initial free trial?**\n",
        "\n",
        "\n",
        "    WITH A AS\n",
        "    (\n",
        "    SELECT customer_id, start_date\n",
        "    FROM foodie_fi.subscriptions\n",
        "    WHERE plan_id=0\n",
        "    ),\n",
        "    B AS\n",
        "    (\n",
        "    SELECT customer_id, start_date\n",
        "    FROM foodie_fi.subscriptions\n",
        "    WHERE plan_id IN (1,2,3)\n",
        "    )\n",
        "\n",
        "    SELECT COUNT(B.customer_id),ROUND(((COUNT(B.customer_id)::float/1000)*100)::NUMERIC,0) AS plan_perc\n",
        "    FROM A\n",
        "    JOIN B\n",
        "    USING (customer_id)\n",
        "    WHERE B.start_date-A.start_date<=7;\n",
        "\n",
        "| count | plan_perc |\n",
        "| ----- | --------------------- |\n",
        "| 908   | 91                    |"
      ],
      "metadata": {
        "id": "jd-KFi6sjVz4"
      }
    },
    {
      "cell_type": "markdown",
      "source": [
        "**B.7 What is the customer count and percentage breakdown of all 5 plan_name values at 2020-12-31?**\n",
        "\n",
        "    WITH A AS\n",
        "    (\n",
        "    SELECT DISTINCT customer_id AS customers,\n",
        "     \tMAX(plan_id) as plan_id\n",
        "    FROM foodie_fi.subscriptions\n",
        "    WHERE start_date<= '2020-12-31'\n",
        "    GROUP BY customer_id\n",
        "    ),\n",
        "\n",
        "    B AS\n",
        "    (\n",
        "    SELECT COUNT (DISTINCT customer_id) AS total\n",
        "    FROM foodie_fi.subscriptions\n",
        "    WHERE start_date<= '2020-12-31'\n",
        "    )\n",
        "\n",
        "\n",
        "    SELECT plan_name,COUNT(customers),\n",
        "    \tROUND(((COUNT(customers)::float/total)*100)::NUMERIC,1) as percentage\n",
        "    FROM B, A\n",
        "    JOIN foodie_fi.plans\n",
        "    USING (plan_id)\n",
        "    GROUP BY plan_name, plan_id,total\n",
        "    ORDER BY plan_id;\n",
        "\n",
        "| plan_name     | count | percentage |\n",
        "| ------------- | ----- | ---------- |\n",
        "| trial         | 19    | 1.9        |\n",
        "| basic monthly | 224   | 22.4       |\n",
        "| pro monthly   | 326   | 32.6       |\n",
        "| pro annual    | 195   | 19.5       |\n",
        "| churn         | 236   | 23.6       |"
      ],
      "metadata": {
        "id": "_Q3zLV3ljXGR"
      }
    },
    {
      "cell_type": "markdown",
      "source": [
        "**B.8 How many customers have upgraded to an annual plan in 2020?**\n",
        "\n",
        "195"
      ],
      "metadata": {
        "id": "WBTyR1D1jYhQ"
      }
    },
    {
      "cell_type": "markdown",
      "source": [
        "**B.9 How many days on average does it take for a customer to an annual plan from the day they join Foodie-Fi?**\n",
        "\n",
        "    WITH A AS\n",
        "    (\n",
        "    SELECT customer_id, start_date\n",
        "    FROM foodie_fi.subscriptions\n",
        "    WHERE plan_id=0\n",
        "    ),\n",
        "    B AS\n",
        "    (\n",
        "    SELECT customer_id, start_date\n",
        "    FROM foodie_fi.subscriptions\n",
        "    WHERE plan_id=3\n",
        "    )\n",
        "\n",
        "    SELECT AVG(B.start_date-A.start_date)\n",
        "    FROM A\n",
        "    JOIN B\n",
        "    USING (customer_id);\n",
        "\n",
        "| avg                  |\n",
        "| -------------------- |\n",
        "| 104.6201550387596899 |\n"
      ],
      "metadata": {
        "id": "Ye0DNRhVjZ56"
      }
    },
    {
      "cell_type": "markdown",
      "source": [
        "**B.10 Can you further breakdown this average value into 30 day periods (i.e. 0-30 days, 31-60 days etc)**\n",
        "\n",
        "    WITH A AS\n",
        "    (\n",
        "    SELECT customer_id, start_date\n",
        "    FROM foodie_fi.subscriptions\n",
        "    WHERE plan_id=0\n",
        "    ),\n",
        "    B AS\n",
        "    (\n",
        "    SELECT customer_id, start_date\n",
        "    FROM foodie_fi.subscriptions\n",
        "    WHERE plan_id=3\n",
        "    ),\n",
        "    C AS\n",
        "    (\n",
        "    SELECT (B.start_date-A.start_date) AS diff ,\n",
        "      FLOOR((B.start_date-A.start_date)::NUMERIC/30) AS bins\n",
        "    FROM A\n",
        "    JOIN B\n",
        "    USING (customer_id)\n",
        "    )\n",
        "\n",
        "    SELECT CONCAT ((bins*30)+1,'-',(bins+1)*30) AS days, COUNT(diff)\n",
        "    FROM C\n",
        "    GROUP BY days,bins\n",
        "    ORDER BY bins;\n",
        "\n",
        "| days    | count |\n",
        "| ------- | ----- |\n",
        "| 1-30    | 48    |\n",
        "| 31-60   | 25    |\n",
        "| 61-90   | 33    |\n",
        "| 91-120  | 35    |\n",
        "| 121-150 | 43    |\n",
        "| 151-180 | 35    |\n",
        "| 181-210 | 27    |\n",
        "| 211-240 | 4     |\n",
        "| 241-270 | 5     |\n",
        "| 271-300 | 1     |\n",
        "| 301-330 | 1     |\n",
        "| 331-360 | 1     |"
      ],
      "metadata": {
        "id": "PJMO39hKjbIR"
      }
    },
    {
      "cell_type": "markdown",
      "source": [
        "**B.11 How many customers downgraded from a pro monthly to a basic monthly plan in 2020?**\n",
        "\n",
        "    WITH A AS\n",
        "    (\n",
        "    SELECT customer_id, start_date\n",
        "    FROM foodie_fi.subscriptions\n",
        "    WHERE plan_id=1\n",
        "    ),\n",
        "    B AS\n",
        "    (\n",
        "    SELECT customer_id, start_date\n",
        "    FROM foodie_fi.subscriptions\n",
        "    WHERE plan_id=2\n",
        "    )\n",
        "\n",
        "    SELECT COUNT(A.customer_id)\n",
        "    FROM A\n",
        "    JOIN B\n",
        "    USING (customer_id)\n",
        "    WHERE A.start_date>B.start_date\n",
        "    AND A.start_date<='2020-12-31';\n",
        "\n",
        "| count |\n",
        "| ----- |\n",
        "| 0     |"
      ],
      "metadata": {
        "id": "hbeyqCF0jcQJ"
      }
    },
    {
      "cell_type": "markdown",
      "source": [
        "# C. Challenge Payment Question"
      ],
      "metadata": {
        "id": "DBiyL1mCqYcg"
      }
    },
    {
      "cell_type": "markdown",
      "source": [
        "    SELECT \n",
        "      customer_id,\n",
        "      plan_id,\n",
        "      plan_name,\n",
        "      start_date,\n",
        "      price\n",
        "    INTO foodie_fi.payments\n",
        "    FROM foodie_fi.subscriptions\n",
        "    JOIN foodie_fi.plans\n",
        "    USING (plan_id)\n",
        "    ORDER BY customer_id;\n",
        "\n",
        "    ALTER TABLE foodie_fi.payments\n",
        "    ADD COLUMN  payment_date DATE,\n",
        "    ADD COLUMN  amount DECIMAL(5,2),\n",
        "    ADD COLUMN  payment_order INTEGER;"
      ],
      "metadata": {
        "id": "e2XKnt7ldzTQ"
      }
    },
    {
      "cell_type": "markdown",
      "source": [
        "#D. Outside The Box Questions"
      ],
      "metadata": {
        "id": "bNTLPb5FRxqf"
      }
    },
    {
      "cell_type": "markdown",
      "source": [
        "1. How would you calculate the rate of growth for Foodie-Fi?\n",
        "\n",
        "*   Number of subscribed customers (esp.annual), and revenue"
      ],
      "metadata": {
        "id": "RO5SCJb-R5Je"
      }
    },
    {
      "cell_type": "markdown",
      "source": [
        "2. What key metrics would you recommend Foodie-Fi management to track over time to assess performance of their overall business?\n",
        "\n",
        "\n",
        "\n",
        "*   conversion rate - trial to subscription, and in subscription upgrades\n",
        "*   downgrade rate - how many and how fast people downgrade from higher subscription tier to lower subscription tier\n",
        "*   length of subscription - for how long do they subscribe, esp. monthly based"
      ],
      "metadata": {
        "id": "MTNK7HLVR-Cm"
      }
    },
    {
      "cell_type": "markdown",
      "source": [
        "3. What are some key customer journeys or experiences that you would analyse further to improve customer retention?\n",
        "\n",
        "*   I want to further analyze the reasons for downgrades. Although downgrades mean that they are still subscribed, it can also mean a signal for unsubscribing in the future. It is important to know which part of the service are they unsatisfied and how we can improve it. "
      ],
      "metadata": {
        "id": "RisCDYLaR_gO"
      }
    },
    {
      "cell_type": "markdown",
      "source": [
        "4. If the Foodie-Fi team were to create an exit survey shown to customers who wish to cancel their subscription, what questions would you include in the survey?\n",
        "\n",
        "*   What is the reason for the unsubscription? (lack of time to watch, subscription costs too much, lack of contents, poor quality of contents, others please specify)\n",
        "*   If lack of time to watch, how often did you use this service? once a week,twice a month? few hours per day? \n",
        "*   If lack of time to watch/subscription costs too much: Would you be interested in a pay per watch kind of subscription? You will only be paying for the time that you have used for watching.\n",
        "*   If subscription costs too much: what is your ideal budget for this kind of service? please indicate for monthly of for annually\n",
        "*   What could you suggest for improvement of the service?"
      ],
      "metadata": {
        "id": "dEP75IpNSBc8"
      }
    },
    {
      "cell_type": "markdown",
      "source": [
        "5. What business levers could the Foodie-Fi team use to reduce the customer churn rate? How would you validate the effectiveness of your ideas?"
      ],
      "metadata": {
        "id": "xwkK1t1oSCsl"
      }
    }
  ]
}
