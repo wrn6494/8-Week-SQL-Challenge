{
  "nbformat": 4,
  "nbformat_minor": 0,
  "metadata": {
    "colab": {
      "provenance": [],
      "authorship_tag": "ABX9TyOrEn5X6It4eZqEAfBqz339",
      "include_colab_link": true
    },
    "kernelspec": {
      "name": "python3",
      "display_name": "Python 3"
    },
    "language_info": {
      "name": "python"
    }
  },
  "cells": [
    {
      "cell_type": "markdown",
      "metadata": {
        "id": "view-in-github",
        "colab_type": "text"
      },
      "source": [
        "<a href=\"https://colab.research.google.com/github/wrn6494/8-Week-SQL-Challenge/blob/main/Case_Study_7_Balanced_Tree_Clothing_Co_.ipynb\" target=\"_parent\"><img src=\"https://colab.research.google.com/assets/colab-badge.svg\" alt=\"Open In Colab\"/></a>"
      ]
    },
    {
      "cell_type": "markdown",
      "source": [
        "# **8 Week SQL Challenge : Case Study #7 - Balanced Tree Clothing Co.**\n",
        "\n",
        "Full case study available [here.](https://8weeksqlchallenge.com/case-study-7/)"
      ],
      "metadata": {
        "id": "6p30j8GzGyYv"
      }
    },
    {
      "cell_type": "markdown",
      "source": [
        "**Probem Statement/Business Task**\n",
        "\n",
        "Balanced Tree Clothing Company prides themselves on providing an optimised range of clothing and lifestyle wear for the modern adventurer.\n",
        "\n",
        "The company wants assistance in analysing their sales performance and in generating a basic financial report."
      ],
      "metadata": {
        "id": "3FPzgjGAHEqG"
      }
    },
    {
      "cell_type": "markdown",
      "source": [
        "# **Case Study Questions**"
      ],
      "metadata": {
        "id": "cTEzk4OrJYZJ"
      }
    },
    {
      "cell_type": "markdown",
      "source": [
        "1. **High Level Sales Analysis**\n",
        "  1.   What was the total quantity sold for all products?\n",
        "  2.   What is the total generated revenue for all products before discounts?\n",
        "  3.   What was the total discount amount for all products?\n",
        "\n",
        "\n",
        "2. **Transaction Analysis**\n",
        "  1.   How many unique transactions were there?\n",
        "  2.   What is the average unique products purchased in each transaction?\n",
        "  3.  What are the 25th, 50th and 75th percentile values for the revenue per transaction?\n",
        "  4.   What is the average discount value per transaction?\n",
        "  5.   What is the percentage split of all transactions for members vs non-members?\n",
        "  6.   What is the average revenue for member transactions and non-member transactions?\n",
        "\n",
        "3. **Product Analysis**\n",
        "  1.  What are the top 3 products by total revenue before discount?\n",
        "  2.  What is the total quantity, revenue and discount for each segment?\n",
        "  3.  What is the top selling product for each segment?\n",
        "  4.  What is the total quantity, revenue and discount for each category?\n",
        "  5.  What is the top selling product for each category?\n",
        "  6.  What is the percentage split of revenue by product for each segment?\n",
        "  7.  What is the percentage split of revenue by segment for each category?\n",
        "  8.  What is the percentage split of total revenue by category?\n",
        "  9.  What is the total transaction “penetration” for each product? (hint: penetration = number of transactions where at least 1 quantity of a product was purchased divided by total number of transactions)\n",
        "  10.  What is the most common combination of at least 1 quantity of any 3 products in a 1 single transaction?\n",
        "\n",
        "4. **Reporting Challenge**\n",
        "\n",
        "Write a single SQL script that combines all of the previous questions into a scheduled report that the Balanced Tree team can run at the beginning of each month to calculate the previous month’s values.\n",
        "\n",
        "Imagine that the Chief Financial Officer (which is also Danny) has asked for all of these questions at the end of every month.\n",
        "\n",
        "He first wants you to generate the data for January only - but then he also wants you to demonstrate that you can easily run the samne analysis for February without many changes (if at all).\n",
        "\n",
        "Feel free to split up your final outputs into as many tables as you need - but be sure to explicitly reference which table outputs relate to which question for full marks :)\n",
        "\n",
        "5. **Bonus Challenge**\n",
        "\n",
        "Use a single SQL query to transform the product_hierarchy and product_prices datasets to the product_details table.\n",
        "\n",
        "Hint: you may want to consider using a recursive CTE to solve this problem!\n",
        "\n"
      ],
      "metadata": {
        "id": "EFL98YxiJkH1"
      }
    },
    {
      "cell_type": "markdown",
      "source": [
        "# **1. **High Level Sales Analysis****"
      ],
      "metadata": {
        "id": "gyvFmOcONT_A"
      }
    },
    {
      "cell_type": "markdown",
      "source": [
        "  1.   What was the total quantity sold for all products?\n",
        "\n",
        "\n",
        "    SELECT DISTINCT product_name, SUM(qty)\n",
        "    FROM balanced_tree.product_details d\n",
        "    JOIN balanced_tree.sales s\n",
        "    ON d.product_id=s.prod_id\n",
        "    GROUP BY product_name"
      ],
      "metadata": {
        "id": "0VxZsJfpOXW7"
      }
    },
    {
      "cell_type": "markdown",
      "source": [
        "   2.   What is the total generated revenue for all products before discounts?\n",
        "\n",
        "\n",
        "    SELECT SUM(price*qty)\n",
        "    FROM balanced_tree.sales\n",
        "\n",
        "| sum |\n",
        "| -----------| \n",
        "|   1289453    | \n"
      ],
      "metadata": {
        "id": "uwZgsJesi2jC"
      }
    },
    {
      "cell_type": "markdown",
      "source": [
        "\n",
        "   3.   What was the total discount amount for all products?\n",
        "\n",
        "\n",
        "    WITH A AS\n",
        "    (\n",
        "    SELECT DISTINCT txn_id,discount\n",
        "    FROM balanced_tree.sales\n",
        "    )\n",
        "\n",
        "    SELECT SUM(discount)\n",
        "    FROM A\n",
        "\n",
        "\n",
        "| sum |\n",
        "| -----------| \n",
        "|  30226    | \n",
        "    "
      ],
      "metadata": {
        "id": "qaT2Se_mi3Di"
      }
    },
    {
      "cell_type": "markdown",
      "source": [
        "# **2. **Transaction Analysis****"
      ],
      "metadata": {
        "id": "2lj0EHIBOCrp"
      }
    },
    {
      "cell_type": "markdown",
      "source": [
        "  1.   How many unique transactions were there?\n",
        "\n",
        "\n",
        "    SELECT COUNT(DISTINCT txn_id)\n",
        "    FROM balanced_tree.sales\n",
        "\n",
        "| sum |\n",
        "| ----| \n",
        "| 2500| "
      ],
      "metadata": {
        "id": "k2mVb96qjtSs"
      }
    },
    {
      "cell_type": "markdown",
      "source": [
        "2.   What is the average unique products purchased in each transaction?\n",
        "\n",
        "\n",
        "    WITH A AS\n",
        "    (\n",
        "    SELECT COUNT(DISTINCT prod_id)\n",
        "    FROM balanced_tree.sales\n",
        "    GROUP BY txn_id\n",
        "    )\n",
        "\n",
        "    SELECT ROUND(AVG(count)) AS average_products\n",
        "    FROM A\n",
        "\n",
        "| average_products |\n",
        "| ----| \n",
        "| 6| "
      ],
      "metadata": {
        "id": "nSpawW4AjvPq"
      }
    },
    {
      "cell_type": "markdown",
      "source": [
        "3.  What are the 25th, 50th and 75th percentile values for the revenue per transaction?\n",
        "\n"
      ],
      "metadata": {
        "id": "_LWFGzwwjvaA"
      }
    },
    {
      "cell_type": "markdown",
      "source": [
        "    WITH A AS\n",
        "    (\n",
        "    SELECT DISTINCT txn_id,discount\n",
        "    FROM balanced_tree.sales\n",
        "    ),\n",
        "    B AS\n",
        "    (\n",
        "    SELECT DISTINCT txn_id,SUM(price*qty) AS profit\n",
        "    FROM balanced_tree.sales\n",
        "    GROUP BY txn_id\n",
        "    ),\n",
        "    C AS\n",
        "    (\n",
        "    SELECT (profit-A.discount) AS revenue\n",
        "    FROM A\n",
        "    JOIN B\n",
        "    USING (txn_id)\n",
        "    )\n",
        "\n",
        "    SELECT \n",
        "      PERCENTILE_DISC(0.25) WITHIN GROUP (ORDER BY revenue ASC) AS percentile_25,\n",
        "        PERCENTILE_DISC(0.5) WITHIN GROUP (ORDER BY revenue ASC) AS percentile_50,\n",
        "        PERCENTILE_DISC(0.75) WITHIN GROUP (ORDER BY revenue ASC) AS percentile_75\n",
        "    FROM C\n",
        "\n",
        "\n",
        "| percentile_25 | \tpercentile_50 |percentile_75|\n",
        "| ----| ----|  ----|  \n",
        "| 364| 497| 636|\n"
      ],
      "metadata": {
        "id": "J0r6g7RStOFM"
      }
    },
    {
      "cell_type": "markdown",
      "source": [
        "4.   What is the average discount value per transaction?\n",
        "\n",
        "\n",
        "    WITH A AS\n",
        "    (\n",
        "    SELECT DISTINCT txn_id,discount\n",
        "    FROM balanced_tree.sales\n",
        "    )\n",
        "\n",
        "    SELECT ROUND(AVG(discount)) AS average_discount\n",
        "    FROM A\n",
        "\n",
        "| average__discount |\n",
        "| ----| \n",
        "| 12| "
      ],
      "metadata": {
        "id": "gtco4D_ZjvsU"
      }
    },
    {
      "cell_type": "markdown",
      "source": [
        "5.   What is the percentage split of all transactions for members vs non-members?\n",
        "\n",
        "\n",
        "    WITH A AS\n",
        "    (\n",
        "    SELECT DISTINCT txn_id,member\n",
        "    FROM balanced_tree.sales\n",
        "    )\n",
        "\n",
        "    SELECT ((SUM(CASE WHEN member='t' THEN 1 ELSE 0 END))*100)/COUNT(txn_id) AS member_perc\n",
        "    FROM A\n",
        "\n",
        "\n",
        "| member_perc |\n",
        "| ----| \n",
        "| 60| \n",
        "\n",
        "Members: 60%, Non-members: 40%"
      ],
      "metadata": {
        "id": "souWBx9cjv3d"
      }
    },
    {
      "cell_type": "markdown",
      "source": [
        "6.   What is the average revenue for member transactions and non-member transactions?\n",
        "\n",
        "\n",
        "    WITH A AS\n",
        "    (\n",
        "    SELECT DISTINCT txn_id,discount\n",
        "    FROM balanced_tree.sales\n",
        "    ),\n",
        "    B AS\n",
        "    (\n",
        "    SELECT DISTINCT txn_id,SUM(price*qty) AS profit\n",
        "    FROM balanced_tree.sales\n",
        "    GROUP BY txn_id\n",
        "    )\n",
        "\n",
        "    SELECT ROUND(AVG(profit-A.discount),2) AS member_revenue\n",
        "    FROM A\n",
        "    JOIN B\n",
        "    USING (txn_id)\n",
        "    JOIN balanced_tree.sales\n",
        "    USING (txn_id)\n",
        "    WHERE member='t'\n",
        "\n",
        "| member_revenue |\n",
        "| ----| \n",
        "| 544.77| \n",
        "\n",
        "    SELECT ROUND(AVG(profit-A.discount),2) AS member_revenue\n",
        "    FROM A\n",
        "    JOIN B\n",
        "    USING (txn_id)\n",
        "    JOIN balanced_tree.sales\n",
        "    USING (txn_id)\n",
        "    WHERE member='f'\n",
        "\n",
        "| member_revenue |\n",
        "| ----| \n",
        "| 546.52| "
      ],
      "metadata": {
        "id": "MFgx3kXijwAm"
      }
    },
    {
      "cell_type": "markdown",
      "source": [
        "# **3. **Product Analysis****"
      ],
      "metadata": {
        "id": "RwaX_-ioOC5Q"
      }
    },
    {
      "cell_type": "markdown",
      "source": [
        "1.  What are the top 3 products by total revenue before discount?\n",
        "\n",
        "\n",
        "    SELECT product_name,SUM(s.price*qty)\n",
        "    FROM balanced_tree.sales s\n",
        "    JOIN balanced_tree.product_details d\n",
        "    ON s.prod_id=d.product_id\n",
        "    GROUP BY product_name\n",
        "    ORDER BY product_name DESC\n",
        "    LIMIT 3\n",
        "\n",
        "| product_name |\tsum |\n",
        "| ----| ----|  \n",
        "|White Tee Shirt - Mens |152000|  \n",
        "|White Striped Socks - Mens |62135|  \n",
        "|Teal Button Up Shirt - Mens |36460|  "
      ],
      "metadata": {
        "id": "Nv5SPz-att6h"
      }
    },
    {
      "cell_type": "markdown",
      "source": [
        "2.  What is the total quantity, revenue and discount for each segment?\n",
        "\n",
        "\n",
        "    SELECT segment_name,\n",
        "      SUM(qty) AS qty,\n",
        "      SUM(s.price*qty) AS revenue,\n",
        "      SUM(discount) AS discount\n",
        "    FROM balanced_tree.sales s\n",
        "    JOIN balanced_tree.product_details d\n",
        "    ON s.prod_id=d.product_id\n",
        "    GROUP BY segment_name\n",
        "    ORDER BY segment_name DESC\n",
        "\n",
        "\n",
        "| segment_name |\tqty |\trevenue |\tdiscount |\n",
        "| ----| ----| ----| ----|\n",
        "|Socks|11217|307977 |45465| \n",
        "|Shirt|11265| 406143|46043| \n",
        "|Jeans|11349|208350 |45740|\n",
        "|Jacket|11385| 366983|45452|"
      ],
      "metadata": {
        "id": "bvEqrAbbtyRs"
      }
    },
    {
      "cell_type": "markdown",
      "source": [
        "3.  What is the top selling product for each segment?\n",
        "\n",
        "\n",
        "    SELECT segment_name,product_name,\n",
        "    SUM(qty) AS qty,\n",
        "    SUM(s.price*qty) AS revenue,\n",
        "    SUM(discount) AS discount\n",
        "    FROM balanced_tree.sales s\n",
        "    JOIN balanced_tree.product_details d\n",
        "    ON s.prod_id=d.product_id\n",
        "    GROUP BY segment_name,product_name\n",
        "    ORDER BY segment_name,revenue DESC, qty DESC"
      ],
      "metadata": {
        "id": "7c-4O36gtzGD"
      }
    },
    {
      "cell_type": "markdown",
      "source": [
        "4.  What is the total quantity, revenue and discount for each category?\n",
        "\n",
        "\n",
        "    SELECT category_name,\n",
        "      SUM(qty) AS qty,\n",
        "      SUM(s.price*qty) AS revenue,\n",
        "      SUM(discount) AS discount\n",
        "    FROM balanced_tree.sales s\n",
        "    JOIN balanced_tree.product_details d\n",
        "    ON s.prod_id=d.product_id\n",
        "    GROUP BY category_name\n",
        "\n",
        "| category_name |\tqty |\trevenue |\tdiscount |\n",
        "| ----| ----| ----| ----|\n",
        "|Mens|22482|714120|91508| \n",
        "|Womens|22734| 575333|91192| "
      ],
      "metadata": {
        "id": "DUxinPGWtztN"
      }
    },
    {
      "cell_type": "markdown",
      "source": [
        "5.  What is the top selling product for each category?\n",
        "\n",
        "\n",
        "    SELECT category_name,product_name,\n",
        "    SUM(qty) AS qty,\n",
        "    SUM(s.price*qty) AS revenue,\n",
        "    SUM(discount) AS discount\n",
        "    FROM balanced_tree.sales s\n",
        "    JOIN balanced_tree.product_details d\n",
        "    ON s.prod_id=d.product_id\n",
        "    GROUP BY category_name,product_name\n",
        "    ORDER BY category_name,revenue DESC, qty DESC"
      ],
      "metadata": {
        "id": "ndRb5FM7t0YE"
      }
    },
    {
      "cell_type": "markdown",
      "source": [
        "6.  What is the percentage split of revenue by product for each segment?\n",
        "\n",
        "\n",
        "    WITH A AS \n",
        "    (      \n",
        "    SELECT segment_name,product_name,\n",
        "    SUM(s.price*qty) AS revenue\n",
        "    FROM balanced_tree.sales s\n",
        "    JOIN balanced_tree.product_details d\n",
        "    ON s.prod_id=d.product_id\n",
        "    GROUP BY segment_name,product_name\n",
        "    ),\n",
        "    B AS\n",
        "    (\n",
        "    SELECT segment_name,\n",
        "    SUM(s.price*qty) AS total_segment_revenue\n",
        "    FROM balanced_tree.sales s\n",
        "    JOIN balanced_tree.product_details d\n",
        "    ON s.prod_id=d.product_id\n",
        "    GROUP BY segment_name\n",
        "    )\n",
        "\n",
        "    SELECT segment_name, product_name,((revenue*100)/total_segment_revenue) AS percentage\n",
        "    FROM A \n",
        "    RIGHT JOIN B\n",
        "    USING (segment_name)\n",
        "    ORDER BY segment_name"
      ],
      "metadata": {
        "id": "ckfRLfqUt1WD"
      }
    },
    {
      "cell_type": "markdown",
      "source": [
        "7.  What is the percentage split of revenue by segment for each category?\n",
        "\n",
        "\n",
        "    WITH A AS \n",
        "    (      \n",
        "    SELECT category_name,segment_name,\n",
        "    SUM(s.price*qty) AS revenue\n",
        "    FROM balanced_tree.sales s\n",
        "    JOIN balanced_tree.product_details d\n",
        "    ON s.prod_id=d.product_id\n",
        "    GROUP BY category_name,segment_name\n",
        "    ),\n",
        "    B ASa\n",
        "    (\n",
        "    SELECT category_name,\n",
        "    SUM(s.price*qty) AS total_category_revenue\n",
        "    FROM balanced_tree.sales s\n",
        "    JOIN balanced_tree.product_details d\n",
        "    ON s.prod_id=d.product_id\n",
        "    GROUP BY category_name\n",
        "    )\n",
        "\n",
        "    SELECT category_name, segment_name,((revenue*100)/total_category_revenue) AS percentage\n",
        "    FROM A \n",
        "    RIGHT JOIN B\n",
        "    USING (category_name)\n",
        "    ORDER BY category_name\n",
        "  \n"
      ],
      "metadata": {
        "id": "aowA2gVauD0b"
      }
    },
    {
      "cell_type": "markdown",
      "source": [
        "8.  What is the percentage split of total revenue by category?\n",
        "\n",
        "\n",
        "    WITH A AS\n",
        "    (\n",
        "      SELECT category_name,\n",
        "          SUM(s.price*qty) AS revenue\n",
        "        FROM balanced_tree.sales s\n",
        "        JOIN balanced_tree.product_details d\n",
        "        ON s.prod_id=d.product_id\n",
        "        GROUP BY category_name\n",
        "    ),\n",
        "    B AS\n",
        "    (\n",
        "        SELECT\n",
        "          SUM(s.price*qty) AS total_revenue\n",
        "        FROM balanced_tree.sales s\n",
        "    )\n",
        "    SELECT category_name, ((revenue*100)/ (SELECT total_revenue FROM B)) AS percentage\n",
        "    FROM A"
      ],
      "metadata": {
        "id": "WUXDbncquFPD"
      }
    },
    {
      "cell_type": "markdown",
      "source": [
        "9.  What is the total transaction “penetration” for each product? (hint: penetration = number of transactions where at least 1 quantity of a product was purchased divided by total number of transactions)"
      ],
      "metadata": {
        "id": "t3H4AvdauGz0"
      }
    },
    {
      "cell_type": "markdown",
      "source": [
        "10.  What is the most common combination of at least 1 quantity of any 3 products in a 1 single transaction?"
      ],
      "metadata": {
        "id": "OnX3HmnruIA-"
      }
    },
    {
      "cell_type": "markdown",
      "source": [
        "# **4. **Reporting Challenge****"
      ],
      "metadata": {
        "id": "Ez77-IofODEV"
      }
    },
    {
      "cell_type": "markdown",
      "source": [
        "# **5. **Bonus Challenge****"
      ],
      "metadata": {
        "id": "qVulY4tZOOI8"
      }
    }
  ]
}